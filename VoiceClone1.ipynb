{
  "cells": [
    {
      "cell_type": "markdown",
      "source": [
        "#Note By Meghanshu.\n",
        "The following is my work. All the comments are added by me, including the links. I hope Aman and Sanat will find it useful. I have the access of this code as well, as soon you takeover this code, you can create your own notebook as per the privacy is a concern to Flaxxi Ai."
      ],
      "metadata": {
        "id": "M8OtKcS8ZAZ2"
      }
    },
    {
      "cell_type": "code",
      "execution_count": null,
      "metadata": {
        "id": "uC2qGJ0nITKW"
      },
      "outputs": [],
      "source": [
        "!pip3 install -U scipy\n",
        "\n",
        "!git clone https://github.com/jnordberg/tortoise-tts.git\n",
        "%cd tortoise-tts\n",
        "!pip3 install -r requirements.txt\n",
        "!pip3 install transformers==4.19.0 einops==0.5.0 rotary_embedding_torch==0.1.5 unidecode==1.3.5\n",
        "!python3 setup.py install\n",
        "\n",
        "import torch\n",
        "import torchaudio\n",
        "import torch.nn as nn\n",
        "import torch.nn.functional as F\n",
        "\n",
        "import IPython\n",
        "\n",
        "from tortoise.api import TextToSpeech\n",
        "from tortoise.utils.audio import load_audio, load_voice, load_voices\n",
        "\n",
        "tts = TextToSpeech()\n",
        "\n",
        "import os\n",
        "from google.colab import files\n",
        "import time\n",
        "import random as rnd\n",
        "\n",
        "#This can create some problem, although I have worked this one out but might give error of dependencies of packages."
      ]
    },
    {
      "cell_type": "code",
      "execution_count": null,
      "metadata": {
        "id": "SAym6GtUqlR7"
      },
      "outputs": [],
      "source": [
        "# upload at least 2 audio clips. They must be a WAV file, 6-10 seconds long.\n",
        "CUSTOM_VOICE_NAME = \"\"\n",
        "\n",
        "custom_voice_folder = f\"tortoise/voices/{CUSTOM_VOICE_NAME}\"\n",
        "os.makedirs(custom_voice_folder)\n",
        "for i, file_data in enumerate(files.upload().values()):\n",
        "  with open(os.path.join(custom_voice_folder, f'{i}.wav'), 'wb') as f:\n",
        "    f.write(file_data)"
      ]
    },
    {
      "cell_type": "code",
      "source": [
        "text = \"\"\n",
        "preset = '' #We can change this parameter to enhance the voice output.\n",
        "voice_samples, conditioning_latents = load_voice(CUSTOM_VOICE_NAME)\n",
        "gen = tts.tts_with_preset(text, voice_samples=voice_samples, conditioning_latents=conditioning_latents,\n",
        "                          preset=preset)\n",
        "torchaudio.save(f'generated-{CUSTOM_VOICE_NAME}.wav', gen.squeeze(0).cpu(), 24000) #Don't try to change .cpu() to gpu() or cuda() as it is for saving in PC not processing.\n",
        "IPython.display.Audio(f'generated-{CUSTOM_VOICE_NAME}.wav')"
      ],
      "metadata": {
        "id": "962HGZV6w6sQ"
      },
      "execution_count": null,
      "outputs": []
    },
    {
      "cell_type": "code",
      "source": [
        "def loader(speech_name):\n",
        "  CUSTOM_VOICE_NAME = speech_name\n",
        "\n",
        "  custom_voice_folder = f\"tortoise/voices/{CUSTOM_VOICE_NAME}\"\n",
        "  os.makedirs(custom_voice_folder)\n",
        "  for i, file_data in enumerate(files.upload().values()):\n",
        "    with open(os.path.join(custom_voice_folder, f'{i}.wav'), 'wb') as f:\n",
        "      f.write(file_data)\n",
        "  return CUSTOM_VOICE_NAME"
      ],
      "metadata": {
        "id": "mPiEIlo90Z3l"
      },
      "execution_count": null,
      "outputs": []
    },
    {
      "cell_type": "code",
      "source": [
        "def VoiceClone(textx,cvm):\n",
        "  i = rnd.random()\n",
        "  text = textx\n",
        "  preset = 'standard' #We can change this parameter.\n",
        "  voice_samples, conditioning_latents = load_voice(cvm)\n",
        "  gen = tts.tts_with_preset(text, voice_samples=voice_samples, conditioning_latents=conditioning_latents,\n",
        "                            preset=preset)\n",
        "  torchaudio.save(f'generated-{cvm}+{i}.wav', gen.squeeze(0).cpu(), 24000)\n",
        "  IPython.display.Audio(f'generated-{cvm}.wav')"
      ],
      "metadata": {
        "id": "-1TcRyxRx2El"
      },
      "execution_count": null,
      "outputs": []
    },
    {
      "cell_type": "code",
      "source": [
        "text_here = \"\"\n",
        "\n",
        "def text_spliter(text_here):\n",
        "  #Code to spilt large text into smaller ones.\n",
        "  text_out = []\n",
        "  #http://www.kerryr.net/webwriting/tools_readability.htm -- research on avg words in a line ---> 15-20 , so the word we need in a sentance is 17.\n",
        "  threshold = 17\n",
        "  for chunk in text_here.split('. '):\n",
        "      if text_out and len(chunk)+len(text_out[-1]) < threshold:\n",
        "          text_out[-1] += ' '+chunk+'.'\n",
        "      else:\n",
        "          text_out.append(chunk+'.')\n",
        "  return(text_out) #outputs a list."
      ],
      "metadata": {
        "id": "B-NlL-SsTyAl"
      },
      "execution_count": null,
      "outputs": []
    },
    {
      "cell_type": "code",
      "source": [
        "#if the text is too much then:\n",
        "\n",
        "def Large_Voice(text_large_here, name_here)\n",
        "  load = loader(name_here)\n",
        "  for sentance in range(text_spliter(text_large_here)):\n",
        "    return VoiceClone(text_spliter[sentance],load)\n",
        "\n",
        "#This code can be further optimize as you have already load the sample."
      ],
      "metadata": {
        "id": "5D-rtZ0uXHjZ"
      },
      "execution_count": null,
      "outputs": []
    },
    {
      "cell_type": "code",
      "source": [
        "load= loader('TestAbk1')"
      ],
      "metadata": {
        "id": "mQHAGmg61aKb"
      },
      "execution_count": null,
      "outputs": []
    },
    {
      "cell_type": "code",
      "source": [
        "VoiceClone(\"hello world, this is me\",load)"
      ],
      "metadata": {
        "id": "xQNMo3_i6L_K"
      },
      "execution_count": null,
      "outputs": []
    },
    {
      "cell_type": "code",
      "source": [
        "Large_Voice(\"Hello world\",'NameSample')"
      ],
      "metadata": {
        "id": "Y2PRSaeRYUDL"
      },
      "execution_count": null,
      "outputs": []
    }
  ],
  "metadata": {
    "accelerator": "GPU",
    "colab": {
      "provenance": []
    },
    "gpuClass": "standard",
    "kernelspec": {
      "display_name": "Python 3",
      "name": "python3"
    },
    "language_info": {
      "name": "python"
    }
  },
  "nbformat": 4,
  "nbformat_minor": 0
}